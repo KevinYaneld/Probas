{
 "cells": [
  {
   "cell_type": "markdown",
   "id": "1352f6a0-357e-40ad-b91a-be6c6948fbb7",
   "metadata": {},
   "source": [
    "# TUGAS 2 PROBAS KEVIN YANELD CENDHANA / 2109106031"
   ]
  },
  {
   "cell_type": "code",
   "execution_count": 81,
   "id": "782f09a0-27cd-49a8-887d-432016b9d647",
   "metadata": {},
   "outputs": [],
   "source": [
    "import pandas as pd\n",
    "from matplotlib import pyplot as plt\n",
    "import seaborn as sns\n",
    "import statistics"
   ]
  },
  {
   "cell_type": "code",
   "execution_count": 2,
   "id": "47e545cb-e5df-4a99-b5c8-c62941bf7ce0",
   "metadata": {},
   "outputs": [],
   "source": [
    "df = pd.read_csv(\"Dr.-Fahrul-Agus,MT_Dr.-Fahrul-Agus,MT_StudentsPerformance.csv\")"
   ]
  },
  {
   "cell_type": "code",
   "execution_count": 3,
   "id": "2c473504-8a6d-4734-92de-17edfac87590",
   "metadata": {},
   "outputs": [
    {
     "data": {
      "text/html": [
       "<div>\n",
       "<style scoped>\n",
       "    .dataframe tbody tr th:only-of-type {\n",
       "        vertical-align: middle;\n",
       "    }\n",
       "\n",
       "    .dataframe tbody tr th {\n",
       "        vertical-align: top;\n",
       "    }\n",
       "\n",
       "    .dataframe thead th {\n",
       "        text-align: right;\n",
       "    }\n",
       "</style>\n",
       "<table border=\"1\" class=\"dataframe\">\n",
       "  <thead>\n",
       "    <tr style=\"text-align: right;\">\n",
       "      <th></th>\n",
       "      <th>gender</th>\n",
       "      <th>race/ethnicity</th>\n",
       "      <th>parental level of education</th>\n",
       "      <th>lunch</th>\n",
       "      <th>test preparation course</th>\n",
       "      <th>math_score</th>\n",
       "      <th>reading_score</th>\n",
       "      <th>writing_score</th>\n",
       "    </tr>\n",
       "  </thead>\n",
       "  <tbody>\n",
       "    <tr>\n",
       "      <th>0</th>\n",
       "      <td>female</td>\n",
       "      <td>group B</td>\n",
       "      <td>bachelor's degree</td>\n",
       "      <td>standard</td>\n",
       "      <td>none</td>\n",
       "      <td>72</td>\n",
       "      <td>72</td>\n",
       "      <td>74</td>\n",
       "    </tr>\n",
       "    <tr>\n",
       "      <th>1</th>\n",
       "      <td>female</td>\n",
       "      <td>group C</td>\n",
       "      <td>some college</td>\n",
       "      <td>standard</td>\n",
       "      <td>completed</td>\n",
       "      <td>69</td>\n",
       "      <td>90</td>\n",
       "      <td>88</td>\n",
       "    </tr>\n",
       "    <tr>\n",
       "      <th>2</th>\n",
       "      <td>female</td>\n",
       "      <td>group B</td>\n",
       "      <td>master's degree</td>\n",
       "      <td>standard</td>\n",
       "      <td>none</td>\n",
       "      <td>90</td>\n",
       "      <td>95</td>\n",
       "      <td>93</td>\n",
       "    </tr>\n",
       "    <tr>\n",
       "      <th>3</th>\n",
       "      <td>male</td>\n",
       "      <td>group A</td>\n",
       "      <td>associate's degree</td>\n",
       "      <td>free/reduced</td>\n",
       "      <td>none</td>\n",
       "      <td>47</td>\n",
       "      <td>57</td>\n",
       "      <td>44</td>\n",
       "    </tr>\n",
       "    <tr>\n",
       "      <th>4</th>\n",
       "      <td>male</td>\n",
       "      <td>group C</td>\n",
       "      <td>some college</td>\n",
       "      <td>standard</td>\n",
       "      <td>none</td>\n",
       "      <td>76</td>\n",
       "      <td>78</td>\n",
       "      <td>75</td>\n",
       "    </tr>\n",
       "  </tbody>\n",
       "</table>\n",
       "</div>"
      ],
      "text/plain": [
       "   gender race/ethnicity parental level of education         lunch  \\\n",
       "0  female        group B           bachelor's degree      standard   \n",
       "1  female        group C                some college      standard   \n",
       "2  female        group B             master's degree      standard   \n",
       "3    male        group A          associate's degree  free/reduced   \n",
       "4    male        group C                some college      standard   \n",
       "\n",
       "  test preparation course  math_score  reading_score  writing_score  \n",
       "0                    none          72             72             74  \n",
       "1               completed          69             90             88  \n",
       "2                    none          90             95             93  \n",
       "3                    none          47             57             44  \n",
       "4                    none          76             78             75  "
      ]
     },
     "execution_count": 3,
     "metadata": {},
     "output_type": "execute_result"
    }
   ],
   "source": [
    "df.head()"
   ]
  },
  {
   "cell_type": "code",
   "execution_count": 93,
   "id": "1060bc3c-dbd8-4a61-9a58-e14d20283636",
   "metadata": {},
   "outputs": [
    {
     "data": {
      "text/plain": [
       "gender                         object\n",
       "race/ethnicity                 object\n",
       "parental level of education    object\n",
       "lunch                          object\n",
       "test preparation course        object\n",
       "math_score                      int64\n",
       "reading_score                   int64\n",
       "writing_score                   int64\n",
       "dtype: object"
      ]
     },
     "execution_count": 93,
     "metadata": {},
     "output_type": "execute_result"
    }
   ],
   "source": [
    "df.dtypes"
   ]
  },
  {
   "cell_type": "markdown",
   "id": "61640cf1-f1e7-4dc2-a621-a53fbbf84d92",
   "metadata": {},
   "source": [
    "# JAWABAN A"
   ]
  },
  {
   "cell_type": "code",
   "execution_count": 68,
   "id": "fb95f950-4085-42df-8000-3da80f086de6",
   "metadata": {},
   "outputs": [
    {
     "name": "stdout",
     "output_type": "stream",
     "text": [
      "Data Tabel Frekuensi Reading Score\n"
     ]
    },
    {
     "data": {
      "text/html": [
       "<div>\n",
       "<style scoped>\n",
       "    .dataframe tbody tr th:only-of-type {\n",
       "        vertical-align: middle;\n",
       "    }\n",
       "\n",
       "    .dataframe tbody tr th {\n",
       "        vertical-align: top;\n",
       "    }\n",
       "\n",
       "    .dataframe thead th {\n",
       "        text-align: right;\n",
       "    }\n",
       "</style>\n",
       "<table border=\"1\" class=\"dataframe\">\n",
       "  <thead>\n",
       "    <tr style=\"text-align: right;\">\n",
       "      <th></th>\n",
       "      <th>reading_score</th>\n",
       "      <th>frekuensi_reading</th>\n",
       "    </tr>\n",
       "  </thead>\n",
       "  <tbody>\n",
       "    <tr>\n",
       "      <th>0</th>\n",
       "      <td>(0, 10]</td>\n",
       "      <td>0</td>\n",
       "    </tr>\n",
       "    <tr>\n",
       "      <th>1</th>\n",
       "      <td>(10, 20]</td>\n",
       "      <td>1</td>\n",
       "    </tr>\n",
       "    <tr>\n",
       "      <th>2</th>\n",
       "      <td>(20, 30]</td>\n",
       "      <td>7</td>\n",
       "    </tr>\n",
       "    <tr>\n",
       "      <th>3</th>\n",
       "      <td>(30, 40]</td>\n",
       "      <td>19</td>\n",
       "    </tr>\n",
       "    <tr>\n",
       "      <th>4</th>\n",
       "      <td>(40, 50]</td>\n",
       "      <td>70</td>\n",
       "    </tr>\n",
       "    <tr>\n",
       "      <th>5</th>\n",
       "      <td>(50, 60]</td>\n",
       "      <td>178</td>\n",
       "    </tr>\n",
       "    <tr>\n",
       "      <th>6</th>\n",
       "      <td>(60, 70]</td>\n",
       "      <td>238</td>\n",
       "    </tr>\n",
       "    <tr>\n",
       "      <th>7</th>\n",
       "      <td>(70, 80]</td>\n",
       "      <td>252</td>\n",
       "    </tr>\n",
       "    <tr>\n",
       "      <th>8</th>\n",
       "      <td>(80, 90]</td>\n",
       "      <td>173</td>\n",
       "    </tr>\n",
       "    <tr>\n",
       "      <th>9</th>\n",
       "      <td>(90, 100]</td>\n",
       "      <td>62</td>\n",
       "    </tr>\n",
       "  </tbody>\n",
       "</table>\n",
       "</div>"
      ],
      "text/plain": [
       "  reading_score  frekuensi_reading\n",
       "0       (0, 10]                  0\n",
       "1      (10, 20]                  1\n",
       "2      (20, 30]                  7\n",
       "3      (30, 40]                 19\n",
       "4      (40, 50]                 70\n",
       "5      (50, 60]                178\n",
       "6      (60, 70]                238\n",
       "7      (70, 80]                252\n",
       "8      (80, 90]                173\n",
       "9     (90, 100]                 62"
      ]
     },
     "execution_count": 68,
     "metadata": {},
     "output_type": "execute_result"
    }
   ],
   "source": [
    "interval = pd.interval_range(0,100 , freq = 10)\n",
    "frekuensi_reading = pd.cut(df ['reading_score'],interval)\n",
    "print(\"Data Tabel Frekuensi Reading Score\")\n",
    "frekuensi_reading.value_counts(sort=False).rename_axis(\"reading_score\").reset_index(name=\"frekuensi_reading\")"
   ]
  },
  {
   "cell_type": "code",
   "execution_count": 67,
   "id": "ebbe34e8-5cf2-4168-bf29-6a4ad8a598ef",
   "metadata": {},
   "outputs": [
    {
     "name": "stdout",
     "output_type": "stream",
     "text": [
      "Data Tabel Frekuensi Writing Score\n"
     ]
    },
    {
     "data": {
      "text/html": [
       "<div>\n",
       "<style scoped>\n",
       "    .dataframe tbody tr th:only-of-type {\n",
       "        vertical-align: middle;\n",
       "    }\n",
       "\n",
       "    .dataframe tbody tr th {\n",
       "        vertical-align: top;\n",
       "    }\n",
       "\n",
       "    .dataframe thead th {\n",
       "        text-align: right;\n",
       "    }\n",
       "</style>\n",
       "<table border=\"1\" class=\"dataframe\">\n",
       "  <thead>\n",
       "    <tr style=\"text-align: right;\">\n",
       "      <th></th>\n",
       "      <th>writing_score</th>\n",
       "      <th>frekuensi_writing</th>\n",
       "    </tr>\n",
       "  </thead>\n",
       "  <tbody>\n",
       "    <tr>\n",
       "      <th>0</th>\n",
       "      <td>(0, 10]</td>\n",
       "      <td>1</td>\n",
       "    </tr>\n",
       "    <tr>\n",
       "      <th>1</th>\n",
       "      <td>(10, 20]</td>\n",
       "      <td>2</td>\n",
       "    </tr>\n",
       "    <tr>\n",
       "      <th>2</th>\n",
       "      <td>(20, 30]</td>\n",
       "      <td>7</td>\n",
       "    </tr>\n",
       "    <tr>\n",
       "      <th>3</th>\n",
       "      <td>(30, 40]</td>\n",
       "      <td>25</td>\n",
       "    </tr>\n",
       "    <tr>\n",
       "      <th>4</th>\n",
       "      <td>(40, 50]</td>\n",
       "      <td>89</td>\n",
       "    </tr>\n",
       "    <tr>\n",
       "      <th>5</th>\n",
       "      <td>(50, 60]</td>\n",
       "      <td>177</td>\n",
       "    </tr>\n",
       "    <tr>\n",
       "      <th>6</th>\n",
       "      <td>(60, 70]</td>\n",
       "      <td>243</td>\n",
       "    </tr>\n",
       "    <tr>\n",
       "      <th>7</th>\n",
       "      <td>(70, 80]</td>\n",
       "      <td>248</td>\n",
       "    </tr>\n",
       "    <tr>\n",
       "      <th>8</th>\n",
       "      <td>(80, 90]</td>\n",
       "      <td>140</td>\n",
       "    </tr>\n",
       "    <tr>\n",
       "      <th>9</th>\n",
       "      <td>(90, 100]</td>\n",
       "      <td>68</td>\n",
       "    </tr>\n",
       "  </tbody>\n",
       "</table>\n",
       "</div>"
      ],
      "text/plain": [
       "  writing_score  frekuensi_writing\n",
       "0       (0, 10]                  1\n",
       "1      (10, 20]                  2\n",
       "2      (20, 30]                  7\n",
       "3      (30, 40]                 25\n",
       "4      (40, 50]                 89\n",
       "5      (50, 60]                177\n",
       "6      (60, 70]                243\n",
       "7      (70, 80]                248\n",
       "8      (80, 90]                140\n",
       "9     (90, 100]                 68"
      ]
     },
     "execution_count": 67,
     "metadata": {},
     "output_type": "execute_result"
    }
   ],
   "source": [
    "interval = pd.interval_range(0,100 , freq = 10)\n",
    "frekuensi_writing = pd.cut(df ['writing_score'],interval)\n",
    "print(\"Data Tabel Frekuensi Writing Score\")\n",
    "frekuensi_writing.value_counts(sort=False).rename_axis(\"writing_score\").reset_index(name=\"frekuensi_writing\")"
   ]
  },
  {
   "cell_type": "code",
   "execution_count": 20,
   "id": "e8350a01-8e8e-4fa8-804f-2197badb3660",
   "metadata": {},
   "outputs": [
    {
     "data": {
      "text/plain": [
       "(array([  4.,   7.,  22.,  64., 140., 182., 237., 168., 120.,  56.]),\n",
       " array([ 17. ,  25.3,  33.6,  41.9,  50.2,  58.5,  66.8,  75.1,  83.4,\n",
       "         91.7, 100. ]),\n",
       " <BarContainer object of 10 artists>)"
      ]
     },
     "execution_count": 20,
     "metadata": {},
     "output_type": "execute_result"
    },
    {
     "data": {
      "image/png": "[encoded data removed]",
      "text/plain": [
       "<Figure size 640x480 with 1 Axes>"
      ]
     },
     "metadata": {},
     "output_type": "display_data"
    }
   ],
   "source": [
    "plt.title(\"Histogram Reading Score\")\n",
    "plt.hist(df['reading_score'],bins=10, edgecolor = \"k\")"
   ]
  },
  {
   "cell_type": "code",
   "execution_count": 21,
   "id": "76cb3ae7-c749-4c9f-bb99-f844499c8c24",
   "metadata": {},
   "outputs": [
    {
     "data": {
      "text/plain": [
       "(array([  2.,   6.,  14.,  55., 126., 161., 223., 225., 120.,  68.]),\n",
       " array([ 10.,  19.,  28.,  37.,  46.,  55.,  64.,  73.,  82.,  91., 100.]),\n",
       " <BarContainer object of 10 artists>)"
      ]
     },
     "execution_count": 21,
     "metadata": {},
     "output_type": "execute_result"
    },
    {
     "data": {
      "image/png": "[encoded data removed]",
      "text/plain": [
       "<Figure size 640x480 with 1 Axes>"
      ]
     },
     "metadata": {},
     "output_type": "display_data"
    }
   ],
   "source": [
    "plt.title(\"Histogram Writing Score\")\n",
    "plt.hist(df['writing_score'],bins=10, edgecolor = \"k\")"
   ]
  },
  {
   "cell_type": "markdown",
   "id": "dc45eccd-8ddf-4e0d-8147-34e3859ba1fd",
   "metadata": {},
   "source": [
    "# JAWABAN B"
   ]
  },
  {
   "cell_type": "code",
   "execution_count": 87,
   "id": "d9b2c7a0-3e13-47a8-aba2-8afcafd2177f",
   "metadata": {},
   "outputs": [
    {
     "name": "stdout",
     "output_type": "stream",
     "text": [
      "Variabel Reading Score\n",
      "Nilai Rata - Rata Reading Score :  69.169\n",
      "Nilai Median Reading Score :  70.0\n",
      "Nilai Min Reading Score :  17\n",
      "Nilai Max Reading Score :  100\n",
      "Nilai Modus Reading Score :  72\n",
      "\n",
      "Variabel Writing Score\n",
      "Nilai Rata - Rata Writing Score :  68.054\n",
      "Nilai Median Writing Score :  69.0\n",
      "Nilai Min Writing Score :  10\n",
      "Nilai Max Writing Score :  100\n",
      "Nilai Modus Writing Score :  74\n"
     ]
    }
   ],
   "source": [
    "print(\"Variabel Reading Score\")\n",
    "print(\"Nilai Rata - Rata Reading Score : \",df['reading_score'].mean())\n",
    "print(\"Nilai Median Reading Score : \",df['reading_score'].median())\n",
    "print(\"Nilai Min Reading Score : \",df['reading_score'].min())\n",
    "print(\"Nilai Max Reading Score : \",df['reading_score'].max())\n",
    "print(\"Nilai Modus Reading Score : \",statistics.mode(df['reading_score']))\n",
    "\n",
    "print(\"\\nVariabel Writing Score\")\n",
    "print(\"Nilai Rata - Rata Writing Score : \",df['writing_score'].mean())\n",
    "print(\"Nilai Median Writing Score : \",df['writing_score'].median())\n",
    "print(\"Nilai Min Writing Score : \",df['writing_score'].min())\n",
    "print(\"Nilai Max Writing Score : \",df['writing_score'].max())\n",
    "print(\"Nilai Modus Writing Score : \",statistics.mode(df['writing_score']))"
   ]
  },
  {
   "cell_type": "markdown",
   "id": "8b6403a4-b081-4c63-8690-a8c6de11a277",
   "metadata": {},
   "source": [
    "# JAWABAN C"
   ]
  },
  {
   "cell_type": "code",
   "execution_count": 90,
   "id": "81840cbe-b176-4f06-af60-8b37b8e9761b",
   "metadata": {},
   "outputs": [
    {
     "name": "stderr",
     "output_type": "stream",
     "text": [
      "C:\\Users\\KYC\\AppData\\Local\\Temp\\ipykernel_2688\\1357571006.py:3: FutureWarning: The default value of numeric_only in DataFrame.var is deprecated. In a future version, it will default to False. In addition, specifying 'numeric_only=None' is deprecated. Select only valid columns or specify the value of numeric_only to silence this warning.\n",
      "  df.var().rename('var'),\n"
     ]
    },
    {
     "data": {
      "text/html": [
       "<div>\n",
       "<style scoped>\n",
       "    .dataframe tbody tr th:only-of-type {\n",
       "        vertical-align: middle;\n",
       "    }\n",
       "\n",
       "    .dataframe tbody tr th {\n",
       "        vertical-align: top;\n",
       "    }\n",
       "\n",
       "    .dataframe thead th {\n",
       "        text-align: right;\n",
       "    }\n",
       "</style>\n",
       "<table border=\"1\" class=\"dataframe\">\n",
       "  <thead>\n",
       "    <tr style=\"text-align: right;\">\n",
       "      <th></th>\n",
       "      <th>math_score</th>\n",
       "      <th>reading_score</th>\n",
       "      <th>writing_score</th>\n",
       "    </tr>\n",
       "  </thead>\n",
       "  <tbody>\n",
       "    <tr>\n",
       "      <th>count</th>\n",
       "      <td>1000.000000</td>\n",
       "      <td>1000.000000</td>\n",
       "      <td>1000.000000</td>\n",
       "    </tr>\n",
       "    <tr>\n",
       "      <th>mean</th>\n",
       "      <td>66.089000</td>\n",
       "      <td>69.169000</td>\n",
       "      <td>68.054000</td>\n",
       "    </tr>\n",
       "    <tr>\n",
       "      <th>std</th>\n",
       "      <td>15.163080</td>\n",
       "      <td>14.600192</td>\n",
       "      <td>15.195657</td>\n",
       "    </tr>\n",
       "    <tr>\n",
       "      <th>min</th>\n",
       "      <td>0.000000</td>\n",
       "      <td>17.000000</td>\n",
       "      <td>10.000000</td>\n",
       "    </tr>\n",
       "    <tr>\n",
       "      <th>25%</th>\n",
       "      <td>57.000000</td>\n",
       "      <td>59.000000</td>\n",
       "      <td>57.750000</td>\n",
       "    </tr>\n",
       "    <tr>\n",
       "      <th>50%</th>\n",
       "      <td>66.000000</td>\n",
       "      <td>70.000000</td>\n",
       "      <td>69.000000</td>\n",
       "    </tr>\n",
       "    <tr>\n",
       "      <th>75%</th>\n",
       "      <td>77.000000</td>\n",
       "      <td>79.000000</td>\n",
       "      <td>79.000000</td>\n",
       "    </tr>\n",
       "    <tr>\n",
       "      <th>max</th>\n",
       "      <td>100.000000</td>\n",
       "      <td>100.000000</td>\n",
       "      <td>100.000000</td>\n",
       "    </tr>\n",
       "    <tr>\n",
       "      <th>var</th>\n",
       "      <td>229.918998</td>\n",
       "      <td>213.165605</td>\n",
       "      <td>230.907992</td>\n",
       "    </tr>\n",
       "  </tbody>\n",
       "</table>\n",
       "</div>"
      ],
      "text/plain": [
       "        math_score  reading_score  writing_score\n",
       "count  1000.000000    1000.000000    1000.000000\n",
       "mean     66.089000      69.169000      68.054000\n",
       "std      15.163080      14.600192      15.195657\n",
       "min       0.000000      17.000000      10.000000\n",
       "25%      57.000000      59.000000      57.750000\n",
       "50%      66.000000      70.000000      69.000000\n",
       "75%      77.000000      79.000000      79.000000\n",
       "max     100.000000     100.000000     100.000000\n",
       "var     229.918998     213.165605     230.907992"
      ]
     },
     "execution_count": 90,
     "metadata": {},
     "output_type": "execute_result"
    }
   ],
   "source": [
    "def describe(df):\n",
    "    return pd.concat([df.describe().T,\n",
    "                      df.var().rename('var'),\n",
    "                     ], axis=1).T\n",
    "describe(df)"
   ]
  },
  {
   "cell_type": "markdown",
   "id": "6a0480d1-7dcd-41b7-b0a0-02f33e42bd43",
   "metadata": {},
   "source": [
    "# JAWABAN D"
   ]
  },
  {
   "cell_type": "code",
   "execution_count": 38,
   "id": "9fab03d0-a83a-4cfb-8bde-c3abca7fcdc8",
   "metadata": {},
   "outputs": [
    {
     "data": {
      "image/png": "[encoded data removed]",
      "text/plain": [
       "<Figure size 640x480 with 1 Axes>"
      ]
     },
     "metadata": {},
     "output_type": "display_data"
    }
   ],
   "source": [
    "plt.hist(df['reading_score'], bins=10, alpha=0.45, color='red')\n",
    "plt.hist(df['writing_score'], bins=10, alpha=0.45, color='blue')\n",
    "  \n",
    "plt.title(\"Histogram Reading dan Writing\")\n",
    "  \n",
    "plt.legend(['Reading Score', \n",
    "            'Writing Score'])\n",
    "  \n",
    "plt.show()"
   ]
  },
  {
   "cell_type": "code",
   "execution_count": 56,
   "id": "05baf4c9-1a46-4166-adfa-49e7848a2d97",
   "metadata": {},
   "outputs": [
    {
     "data": {
      "text/plain": [
       "<AxesSubplot:title={'center':'Histogram Writing Score'}, xlabel='writing_score'>"
      ]
     },
     "execution_count": 56,
     "metadata": {},
     "output_type": "execute_result"
    },
    {
     "data": {
      "image/png": "[encoded data removed]",
      "text/plain": [
       "<Figure size 640x480 with 1 Axes>"
      ]
     },
     "metadata": {},
     "output_type": "display_data"
    }
   ],
   "source": [
    "plt.title(\"Histogram Writing Score\")\n",
    "sns.boxplot(x=df[\"writing_score\"])"
   ]
  },
  {
   "cell_type": "code",
   "execution_count": 57,
   "id": "254e8c66-20d7-4e1b-b596-04e201ed7703",
   "metadata": {},
   "outputs": [
    {
     "data": {
      "text/plain": [
       "<AxesSubplot:title={'center':'Histogram Reading Score'}, xlabel='reading_score'>"
      ]
     },
     "execution_count": 57,
     "metadata": {},
     "output_type": "execute_result"
    },
    {
     "data": {
      "image/png": "[encoded data removed]",
      "text/plain": [
       "<Figure size 640x480 with 1 Axes>"
      ]
     },
     "metadata": {},
     "output_type": "display_data"
    }
   ],
   "source": [
    "plt.title(\"Histogram Reading Score\")\n",
    "sns.boxplot(x=df[\"reading_score\"])"
   ]
  },
  {
   "cell_type": "code",
   "execution_count": 45,
   "id": "0e5c9511-3c6e-42b3-9fe5-e5648db0134c",
   "metadata": {},
   "outputs": [
    {
     "name": "stdout",
     "output_type": "stream",
     "text": [
      "Nilai Skewness Reading Score :  -0.25910451810923063\n",
      "Nilai Skewness Writing Score :  -0.28944397150761897\n",
      "Nilai Kurtosis Reading Score :  -0.0682654585647704\n",
      "Nilai Kurtosis Writing Score :  -0.03336461500693577\n"
     ]
    }
   ],
   "source": [
    "print(\"Nilai Skewness Reading Score : \", df[\"reading_score\"].skew())\n",
    "print(\"Nilai Skewness Writing Score : \", df[\"writing_score\"].skew())\n",
    "print(\"Nilai Kurtosis Reading Score : \", df[\"reading_score\"].kurt())\n",
    "print(\"Nilai Kurtosis Writing Score : \", df[\"writing_score\"].kurt())"
   ]
  },
  {
   "cell_type": "markdown",
   "id": "6125dfa0-38b7-4bb0-9f24-5798f87d07e0",
   "metadata": {},
   "source": [
    "# JAWABAN E"
   ]
  },
  {
   "cell_type": "code",
   "execution_count": 64,
   "id": "0f8171f3-f5e2-4a23-bf6b-34ecfbeeccc0",
   "metadata": {},
   "outputs": [
    {
     "data": {
      "image/png": "[encoded data removed]",
      "text/plain": [
       "<Figure size 640x480 with 1 Axes>"
      ]
     },
     "metadata": {},
     "output_type": "display_data"
    }
   ],
   "source": [
    "x =df[\"reading_score\"]\n",
    "y =df[\"writing_score\"]\n",
    "\n",
    "\n",
    "plt.xlabel(\"Reading Score\")\n",
    "plt.ylabel(\"Writing Score\")\n",
    "plt.scatter(x, y, c =\"red\")\n",
    "\n",
    "plt.show()"
   ]
  },
  {
   "cell_type": "code",
   "execution_count": null,
   "id": "752b19d2-1d78-42b4-a358-4a9f2ccc1de9",
   "metadata": {},
   "outputs": [],
   "source": []
  }
 ],
 "metadata": {
  "kernelspec": {
   "display_name": "Python 3 (ipykernel)",
   "language": "python",
   "name": "python3"
  },
  "language_info": {
   "codemirror_mode": {
    "name": "ipython",
    "version": 3
   },
   "file_extension": ".py",
   "mimetype": "text/x-python",
   "name": "python",
   "nbconvert_exporter": "python",
   "pygments_lexer": "ipython3",
   "version": "3.10.7"
  }
 },
 "nbformat": 4,
 "nbformat_minor": 5
}
